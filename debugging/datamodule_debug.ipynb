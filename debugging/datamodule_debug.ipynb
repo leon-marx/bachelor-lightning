{
 "cells": [
  {
   "cell_type": "code",
   "execution_count": 2,
   "metadata": {},
   "outputs": [],
   "source": [
    "import os\n",
    "from PIL import Image\n",
    "import pytorch_lightning as pl\n",
    "import torch\n",
    "from torch.utils.data import Dataset, DataLoader\n",
    "from torchvision import transforms\n"
   ]
  },
  {
   "cell_type": "code",
   "execution_count": 3,
   "metadata": {},
   "outputs": [],
   "source": [
    "class PACSDataset(Dataset):\n",
    "    def __init__(self, root, mode, domains, contents, normalize):\n",
    "        \"\"\"\n",
    "        root: str, root folder where PACS is located\n",
    "        mode: str, choose one: \"train\", \"val\" or \"test\"\n",
    "        domains: list of str [\"art_painting\", \"cartoon\", \"photo\", \"sketch\"]\n",
    "        contents: list of str [\"dog\", \"elephant\", \"giraffe\", \"guitar\", \"horse\", \"house\", \"person\"]\n",
    "        normalize: bool, if True, data is normalized to fit a normal gaussian (determined by train set only)\n",
    "        \"\"\"\n",
    "        super().__init__()\n",
    "        self.mode = mode\n",
    "        self.domains = domains\n",
    "        self.contents = contents\n",
    "        self.normalize = normalize\n",
    "        self.domain_dict = {domain: torch.LongTensor([i]) for i, domain in enumerate(self.domains)}\n",
    "        self.content_dict = {content: torch.LongTensor([i]) for i, content in enumerate(self.contents)}\n",
    "        self.data_dir = f\"{root}/PACS_{mode}\"\n",
    "        self.data = []\n",
    "        for domain in os.listdir(f\"{self.data_dir}\"):\n",
    "            if domain in self.domains:\n",
    "                for content in os.listdir(f\"{self.data_dir}/{domain}\"):\n",
    "                    if content in self.contents:\n",
    "                        for file in os.listdir(f\"{self.data_dir}/{domain}/{content}\"):\n",
    "                            self.data.append(f\"{domain}/{content}/{file}\")\n",
    "        self.transform = self.get_transform(self.domains, self.normalize)\n",
    "\n",
    "    def get_transform(self, domains, normalize):\n",
    "        if normalize:\n",
    "            data_mean_dict = {\n",
    "                \"art_painting\": torch.Tensor([0.5117, 0.4888, 0.4654]),\n",
    "                \"cartoon\": torch.Tensor([0.7263, 0.7117, 0.6890]),\n",
    "                \"photo\": torch.Tensor([0.4741, 0.4597, 0.4400]),\n",
    "                \"sketch\": torch.Tensor([0.8723, 0.8723, 0.8723]),\n",
    "            }\n",
    "            data_std_dict = {\n",
    "                \"art_painting\": torch.Tensor([0.0203, 0.0248, 0.0271]),\n",
    "                \"cartoon\": torch.Tensor([0.0536, 0.0640, 0.0735]),\n",
    "                \"photo\": torch.Tensor([0.0324, 0.0312, 0.0360]),\n",
    "                \"sketch\": torch.Tensor([0.0321, 0.0321, 0.0321]),\n",
    "            }\n",
    "            mean = torch.zeros(size=(3,))\n",
    "            std = torch.zeros(size=(3,))\n",
    "            for domain in self.domains:\n",
    "                mean += data_mean_dict[domain] / len(self.domains)\n",
    "                std += data_std_dict[domain] / len(self.domains)\n",
    "            transform = transforms.Compose([\n",
    "                transforms.RandomResizedCrop(224, scale=(0.7, 1.0)),\n",
    "                transforms.RandomHorizontalFlip(),\n",
    "                transforms.ColorJitter(0.3, 0.3, 0.3, 0.3),\n",
    "                transforms.RandomGrayscale(),\n",
    "                transforms.ToTensor(),\n",
    "                transforms.Normalize(\n",
    "                    mean=mean, std=std, inplace=True),\n",
    "            ])\n",
    "        else:\n",
    "            transform = transforms.Compose([\n",
    "                transforms.RandomResizedCrop(224, scale=(0.7, 1.0)),\n",
    "                transforms.RandomHorizontalFlip(),\n",
    "                transforms.ColorJitter(0.3, 0.3, 0.3, 0.3),\n",
    "                transforms.RandomGrayscale(),\n",
    "                transforms.ToTensor(),\n",
    "            ])\n",
    "        return transform\n",
    "\n",
    "    def __len__(self):\n",
    "        return len(self.data)\n",
    "\n",
    "    def __getitem__(self, idx):\n",
    "        img_path = f\"{self.data_dir}/{self.data[idx]}\"\n",
    "        # image = read_image(img_path)\n",
    "        with Image.open(img_path) as image:\n",
    "            image = self.transform(image)\n",
    "            domain_name, content_name, filename = self.data[idx].split(\"/\")\n",
    "            domain = torch.nn.functional.one_hot(self.domain_dict[domain_name], num_classes=len(self.domains)).view(-1)\n",
    "            content = torch.nn.functional.one_hot(self.content_dict[content_name], num_classes=len(self.contents)).view(-1)\n",
    "            return image, domain, content, f\"{domain_name}/{content_name}/{filename}\"\n",
    "\n",
    "        \n",
    "class PACSDataModule(pl.LightningDataModule):\n",
    "    def __init__(self, root, domains, contents, batch_size, num_workers, shuffle_all=False, normalize=True):\n",
    "        \"\"\"\n",
    "        root: str, root folder where PACS is located\n",
    "        domains: list of str [\"art_painting\", \"cartoon\", \"photo\", \"sketch\"]\n",
    "        contents: list of str [\"dog\", \"elephant\", \"giraffe\", \"guitar\", \"horse\", \"house\", \"person\"]\n",
    "        batch_size: int, batch_size to use for the dataloaders\n",
    "        num_workers: int, how many workers to use for the dataloader\n",
    "        shuffle_all: bool, if True val and test dataloaders are shuffled as well\n",
    "        normalize: bool, if True, data is normalized to fit a normal gaussian (determined by train set only)\n",
    "        \"\"\"\n",
    "        super().__init__()\n",
    "        self.root = root\n",
    "        self.domains = domains\n",
    "        self.contents = contents\n",
    "        self.batch_size = batch_size\n",
    "        self.num_workers = num_workers\n",
    "        self.shuffle_all = shuffle_all\n",
    "        self.normalize = normalize\n",
    "\n",
    "    def prepare_data(self):\n",
    "        pass\n",
    "\n",
    "    def setup(self, stage=None):\n",
    "        if stage in (None, \"fit\"):\n",
    "            self.pacs_train = PACSDataset(root=self.root, mode=\"train\", domains=self.domains, contents=self.contents, normalize=self.normalize)\n",
    "            self.pacs_val = PACSDataset(root=self.root, mode=\"val\", domains=self.domains, contents=self.contents, normalize=self.normalize)\n",
    "        if stage in (None, \"test\"):\n",
    "            self.pacs_test = PACSDataset(root=self.root, mode=\"test\", domains=self.domains, contents=self.contents, normalize=self.normalize)\n",
    "\n",
    "    def train_dataloader(self):\n",
    "        return DataLoader(self.pacs_train, batch_size=self.batch_size, shuffle=self.shuffle_all, num_workers=self.num_workers)\n",
    "    \n",
    "    def val_dataloader(self):\n",
    "        return DataLoader(self.pacs_val, batch_size=self.batch_size, shuffle=self.shuffle_all, num_workers=self.num_workers)\n",
    "    \n",
    "    def test_dataloader(self):\n",
    "        return DataLoader(self.pacs_test, batch_size=self.batch_size, shuffle=self.shuffle_all, num_workers=self.num_workers)\n",
    "    "
   ]
  },
  {
   "cell_type": "code",
   "execution_count": 4,
   "metadata": {},
   "outputs": [],
   "source": [
    "domains = [\"art_painting\", \"cartoon\", \"photo\", \"sketch\"]\n",
    "contents =  [\"dog\", \"elephant\", \"giraffe\", \"guitar\", \"horse\", \"house\", \"person\"]\n",
    "batch_size = 4\n",
    "num_workers = 4\n",
    "root = \"../data\"\n",
    "dm = PACSDataModule(root=root, domains=domains, contents=contents, batch_size=batch_size, num_workers=num_workers, normalize=True)\n",
    "dm.setup()"
   ]
  },
  {
   "cell_type": "code",
   "execution_count": 5,
   "metadata": {},
   "outputs": [],
   "source": [
    "import numpy as np"
   ]
  },
  {
   "cell_type": "code",
   "execution_count": 6,
   "metadata": {},
   "outputs": [],
   "source": [
    "import matplotlib.pyplot as plt"
   ]
  },
  {
   "cell_type": "code",
   "execution_count": 7,
   "metadata": {},
   "outputs": [],
   "source": [
    "def gauss(x):\n",
    "    return 1 / np.sqrt(2 * np.pi) * np.exp(-x ** 2 / 2)"
   ]
  },
  {
   "cell_type": "code",
   "execution_count": 14,
   "metadata": {},
   "outputs": [
    {
     "name": "stdout",
     "output_type": "stream",
     "text": [
      "(1505280,)\n",
      "(100,)\n"
     ]
    }
   ],
   "source": [
    "data = torch.load(\"data.pt\").flatten().numpy()\n",
    "print(data.shape)\n",
    "xx = np.linspace(-1, 1, 100)\n",
    "print(xx.shape)"
   ]
  },
  {
   "cell_type": "code",
   "execution_count": 15,
   "metadata": {},
   "outputs": [
    {
     "data": {
      "image/png": "[encoded data removed]",
      "text/plain": [
       "<Figure size 432x288 with 1 Axes>"
      ]
     },
     "metadata": {
      "needs_background": "light"
     },
     "output_type": "display_data"
    },
    {
     "name": "stdout",
     "output_type": "stream",
     "text": [
      "-4.0770216 2.2501926\n"
     ]
    }
   ],
   "source": [
    "plt.hist(data, density=True)\n",
    "plt.plot(xx, gauss(xx))\n",
    "plt.show()\n",
    "print(data.min(), data.max())"
   ]
  },
  {
   "cell_type": "code",
   "execution_count": 10,
   "metadata": {},
   "outputs": [
    {
     "name": "stdout",
     "output_type": "stream",
     "text": [
      "(1000,)\n"
     ]
    },
    {
     "data": {
      "image/png": "[encoded data removed]",
      "text/plain": [
       "<Figure size 432x288 with 1 Axes>"
      ]
     },
     "metadata": {
      "needs_background": "light"
     },
     "output_type": "display_data"
    }
   ],
   "source": [
    "a = np.random.normal(loc=4, scale=8, size=1000)\n",
    "b = (a - a.mean()) / a.std()\n",
    "print(a.shape)\n",
    "plt.hist(a, density=True)\n",
    "plt.hist(b, density=True)\n",
    "plt.plot(xx, gauss(xx))\n",
    "plt.show()"
   ]
  },
  {
   "cell_type": "code",
   "execution_count": null,
   "metadata": {},
   "outputs": [],
   "source": []
  }
 ],
 "metadata": {
  "interpreter": {
   "hash": "7930ccaf1029f9b8696599c8d114a3df4eb78a4984b726cde572031570791305"
  },
  "kernelspec": {
   "display_name": "Python 3.9.5 64-bit ('baver1': conda)",
   "language": "python",
   "name": "python3"
  },
  "language_info": {
   "codemirror_mode": {
    "name": "ipython",
    "version": 3
   },
   "file_extension": ".py",
   "mimetype": "text/x-python",
   "name": "python",
   "nbconvert_exporter": "python",
   "pygments_lexer": "ipython3",
   "version": "3.9.5"
  },
  "orig_nbformat": 4
 },
 "nbformat": 4,
 "nbformat_minor": 2
}
